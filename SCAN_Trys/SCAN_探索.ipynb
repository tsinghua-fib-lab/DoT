{
 "cells": [
  {
   "cell_type": "code",
   "execution_count": 1,
   "metadata": {},
   "outputs": [
    {
     "data": {
      "text/plain": [
       "0"
      ]
     },
     "execution_count": 1,
     "metadata": {},
     "output_type": "execute_result"
    }
   ],
   "source": [
    "# -*- coding: utf-8 -*-\n",
    "import argparse\n",
    "import copy\n",
    "import json\n",
    "import os\n",
    "import pickle\n",
    "import random\n",
    "import sys\n",
    "import re\n",
    "import numpy as np\n",
    "import openai\n",
    "\n",
    "from utils import *\n",
    "\n",
    "os.environ[\"http_proxy\"] = \"http://localhost:7890\"\n",
    "os.environ[\"https_proxy\"] = \"http://localhost:7890\"\n",
    "\n",
    "GPT_MODEL = \"gpt-4-turbo\"  # [gpt-4-turbo]不需要再用preview了，直接上turbo\n",
    "\n",
    "setOpenAi(keyid = 2)"
   ]
  },
  {
   "cell_type": "markdown",
   "metadata": {},
   "source": [
    "### Least2most\n",
    "- 其实可以在例子里加上最后一步的subquestion\n",
    "\n",
    "#### Task: GSM8K"
   ]
  },
  {
   "cell_type": "code",
   "execution_count": 3,
   "metadata": {},
   "outputs": [
    {
     "name": "stdout",
     "output_type": "stream",
     "text": [
      "\"1. How old is Mohamed currently?\"\n",
      "\"2. How old was Kody four years ago?\"\n",
      "\"3. How old is Kody currently?\"\n"
     ]
    }
   ],
   "source": [
    "GPT_MODEL = \"gpt-4-turbo-preview\"  # [gpt-4-turbo-preview]]\n",
    "\n",
    "problem = \"\"\"Four years ago, Kody was only half as old as Mohamed. If Mohamed is currently twice 30 years old, how old is Kody?\"\"\"\n",
    "\n",
    "four_shot_Q = [{\"role\": \"user\", \n",
    "                    \"content\": \"\"\"Betty & Paige are raising money for their kids' little league team by hosting a bake sale. Betty has baked 4 dozen chocolate chip cookies, 6 dozen oatmeal raisin cookies and 2 dozen regular brownies. Paige baked 6 dozen sugar cookies, 3 dozen blondies and 5 dozen cream cheese swirled brownies. If they sell the cookies for $1.00 apiece and the blondies/brownies at $2.00 apiece, how much money will they raise?\"\"\"}, \n",
    "            {\"role\": \"assistant\", \n",
    "                    \"content\": \"\"\"To answer the question \"How much money will they raise?\", we can decompose it into the following subquestions:\n",
    "\"1. How many dozen cookies did they bake (not including blondies/brownies)?\"\n",
    "\"2. How many cookies did they bake (not including blondies/brownies)?\"\n",
    "\"3. How many dozen blondies/brownies did they bake (not including cookies)?\"\n",
    "\"4. How many blondies/brownies did they bake (not including cookies)?\"\n",
    "\"5. How much money will they raise from the cookies (not including blondies/brownies)?\"\n",
    "\"6. How much money will they raise from the blondies/brownies (not including cookies)?\"\n",
    "\"\"\"},\n",
    "            \n",
    "            {\"role\": \"user\", \n",
    "                    \"content\": \"\"\"If Pam is currently twice as young as Rena is, and in 10 years Rena will be 5 years older than her, how old is Pam now?\"\"\"}, \n",
    "            {\"role\": \"assistant\", \n",
    "                    \"content\": \"\"\"To answer the question \"How old is Pam now?\", we can decompose it into the following subquestions:\n",
    "\"1. How much older is Rena than Pam currently?\"\n",
    "\"\"\"},\n",
    "            \n",
    "            {\"role\": \"user\", \n",
    "                    \"content\": \"\"\"As a freelancer, Baylor is paid for every finished work of a client he does on a freelance marketplace. Currently, he has $4000 on his dashboard from previous work done. He is currently working for three clients, with the first client paying him half the amount of money he currently has on his dashboard once the job is done. The second client will pay him 2/5 times more money than the first client once Baylor finishes his work. The third client will pay him twice the amount of money the first and second clients pay him together once he finishes the job. How much money will Baylor have in his dashboard after all the clients pay him for his work?\"\"\"}, \n",
    "            {\"role\": \"assistant\", \n",
    "                    \"content\": \"\"\"To answer the question \"How much money will Baylor have in his dashboard after all the clients pay him for his work?\", we can decompose it into the following subquestions:\n",
    "\"1. How much will Baylor's first client pay him for his work?\"\n",
    "\"2. How much more will Baylor's second client pay him for his work compared to the first client?\"\n",
    "\"3. How much will Baylor's second client pay him for his work?\"\n",
    "\"4. How much will the first and second clients pay him together once he finishes the job?\"\n",
    "\"5. How much will Baylor's third client pay him for his work?\"\n",
    "\"6. How much money will all the clients pay Baylor for his work?\"\n",
    "\"\"\"},\n",
    "            \n",
    "            {\"role\": \"user\", \n",
    "                    \"content\": \"\"\"Cappuccinos cost $2, iced teas cost $3, cafe lattes cost $1.5 and espressos cost $1 each. Sandy orders some drinks for herself and some friends. She orders three cappuccinos, two iced teas, two cafe lattes, and two espressos. How much change does she receive back for a twenty-dollar bill?\"\"\"}, \n",
    "            {\"role\": \"assistant\", \n",
    "                    \"content\": \"\"\"To answer the question \"How much change does she receive back for a twenty-dollar bill?\", we can decompose it into the following subquestions:\n",
    "\"1. How much did the cappuccinos cost in total?\"\n",
    "\"2. How much did the iced teas cost in total?\"\n",
    "\"3. How much did the cafe lattes cost in total?\"\n",
    "\"4. How much did the espressos cost in total?\"\n",
    "\"5. How much did the drinks cost in total?\"\n",
    "\"\"\"},\n",
    "            \n",
    "            {\"role\": \"user\", \n",
    "                    \"content\": problem},\n",
    "            {\"role\": \"assistant\", \n",
    "                    \"content\": \"\"\"Please break down this question into subquestions like the formers. Don't solve. Please begin your answer directly with \"1. \"\"\"}]\n",
    "\n",
    "decomposed_task = askChatGPT(four_shot_Q, model=GPT_MODEL, temperature = 1)\n",
    "print(decomposed_task)   \n"
   ]
  },
  {
   "cell_type": "code",
   "execution_count": 4,
   "metadata": {},
   "outputs": [
    {
     "name": "stdout",
     "output_type": "stream",
     "text": [
      "{'role': 'system', 'content': 'Here is a question to solve. Subquestions from decomposition are provided. Please follow the subquesitions step by step until reaching the final answer.\\nThe initial question is as follows: Four years ago, Kody was only half as old as Mohamed. If Mohamed is currently twice 30 years old, how old is Kody?'}\n",
      "{'role': 'user', 'content': 'Subquestion 1. How old is Mohamed currently?'}\n",
      "{'role': 'assistant', 'content': \"To find Mohamed's current age, given that he is twice 30 years old, we simply multiply 30 by 2. \\n\\nMohamed's current age is \\\\(30 \\\\times 2 = 60\\\\) years old.\"}\n",
      "{'role': 'user', 'content': 'Subquestion 2. How old was Kody four years ago?'}\n",
      "{'role': 'assistant', 'content': \"Four years ago, Kody was only half as old as Mohamed. Given from the previous solution that Mohamed is currently 60 years old, we first need to find out how old Mohamed was four years ago and then use that to find Kody's age at that time.\\n\\nFour years ago, Mohamed's age would be \\\\(60 - 4 = 56\\\\) years old.\\n\\nSince Kody was half as old as Mohamed four years ago, Kody's age at that time would be half of 56, which is:\\n\\n\\\\[ \\\\frac{56}{2} = 28 \\\\] years old.\"}\n",
      "{'role': 'user', 'content': 'Subquestion 3. How old is Kody currently?'}\n",
      "{'role': 'assistant', 'content': \"Given that Kody was 28 years old four years ago, to find Kody's current age, we need to add those four years to his age at that time. \\n\\nSo, Kody's current age is \\\\(28 + 4 = 32\\\\) years old.\"}\n",
      "{'role': 'user', 'content': 'So the final answer is: '}\n",
      "The final answer is that Kody is currently 32 years old.\n"
     ]
    }
   ],
   "source": [
    "# 接下来就是把分解完的问题进行询问,以推理得到最终的解答\n",
    "\n",
    "# 按照换行来划分任务\n",
    "subtasks = decomposed_task.split('\\n')\n",
    "# 去除每个字符串两端的引号\n",
    "subtasks = [s.strip('\"') for s in subtasks]\n",
    "# print(subtasks)\n",
    "\n",
    "systemInfo = {\"role\": \"system\", \"content\": \"\"\"Here is a question to solve. Subquestions from decomposition are provided. Please follow the subquesitions step by step until reaching the final answer.\n",
    "The initial question is as follows: {}\"\"\".format(problem)}\n",
    "Q_now = [systemInfo]\n",
    "\n",
    "for i in range(len(subtasks)):\n",
    "    subtask = subtasks[i]\n",
    "    Q_sub = {\"role\": \"user\", \"content\": f\"\"\"Subquestion {subtask}\"\"\"}\n",
    "    # print(Q_sub)\n",
    "    Q_now.append(Q_sub)\n",
    "    answer_sub = askChatGPT(Q_now, model=GPT_MODEL, temperature = 1)\n",
    "    # print(answer_sub)\n",
    "    A_sub = {\"role\": \"assistant\", \"content\": answer_sub}\n",
    "    Q_now.append(A_sub)\n",
    "    # print(Q_now)\n",
    "\n",
    "\n",
    "Q_final = {\"role\": \"user\", \"content\": \"\"\"So the final answer is: \"\"\"}  # 不论subquesition有没有覆盖到最后一问,都统一问一下\n",
    "Q_now.append(Q_final)\n",
    "printSeq(Q_now)\n",
    "answer_final = askChatGPT(Q_now, model=GPT_MODEL, temperature = 1)\n",
    "print(answer_final)\n",
    "    "
   ]
  },
  {
   "cell_type": "markdown",
   "metadata": {},
   "source": [
    "#### Task: SCAN (one kind of decomposition).\n",
    "- prompt的格式比较复,有三个部分,任务分解,求解,格式转换"
   ]
  },
  {
   "cell_type": "code",
   "execution_count": 3,
   "metadata": {},
   "outputs": [
    {
     "name": "stdout",
     "output_type": "stream",
     "text": [
      "\"turn right after run left thrice\" can be solved by: \"run left\", \"run left thrice\", \"turn right\".\n",
      "['run left', 'run left thrice', 'turn right']\n"
     ]
    }
   ],
   "source": [
    "GPT_MODEL = \"gpt-4-turbo-preview\"  # [gpt-4-turbo-preview]]\n",
    "\n",
    "problem = \"\"\" \"turn right after run left thrice\" \"\"\"\n",
    "\n",
    "decom_system = {\"role\": \"system\", \"content\": \"\"\"I will give you a piece of natural language command. I need you to decompose it to smaller commands.\n",
    "8 examples are as follows:\n",
    "\n",
    "Q: \"look right after look twice\"\n",
    "A: \"look right after look twice\" can be solved by: \"look right\", \"look twice\".\n",
    "\n",
    "Q: \"jump opposite right thrice and walk\"\n",
    "A: \"jump opposite right thrice\" can be solved by: \"jump opposite right\", \"jump opposite right thrice\". \"walk\" can be solved by: \"walk\". So, \"jump opposite right thrice and walk\" can be solved by: \"jump opposite right\", \"jump opposite right thrice\", \"walk\".\n",
    "\n",
    "Q: \"run left twice and run right\"\n",
    "A: \"run left twice\" can be solved by: \"run left\", \"run left twice\". \"run right\" can be solved by \"run right\". So, \"run left twice and run right\" can.be solved by: \"run left\", \"run left twice\", \"run right\".\n",
    "\n",
    "Q: \"run opposite right\"\n",
    "A: \"run opposite right\" can be solved by \"run opposite right\".\n",
    "\n",
    "Q: \"look opposite right thrice after walk\"\n",
    "A: \"look opposite right thrice\" can be solved by: \"look opposite right\", \"look opposite right thrice\". \"walk\" can be solved by \"walk\". So, \"look opposite right thrice after walk\" can be solved by: \"look opposite right\", \"look opposite right thrice\", \"walk\".\n",
    "\n",
    "Q: \"jump around right\"\n",
    "A: \"jump around right\" can be solved by: \"jump right\", \"jump around right\". So, \"jump around right\" can be solved by: \"jump right\", \"jump around right\".\n",
    "\n",
    "Q: \"look around right thrice and walk\"\n",
    "A: \"look around right thrice\" can be solved by: \"look right\", \"look around right\", \"look around right thrice\". \"walk\" can be solved by \"walk\". So, \"look around right thrice and walk\" can be solved by: \"look right\", \"look around right\", \"look around right thrice\", \"walk\".\n",
    "\n",
    "Q: \"turn right after run right thrice\"\n",
    "A: \"turn right\" can be solved by: \"turn right\". \"run right thrice\" can be solved by: \"run right\", \"run right thrice\". So, \"turn right after run right thrice\" can be solved by: \"turn right\", \"run right\", \"run right thrice\".\n",
    "\"\"\"}\n",
    "\n",
    "question = {\"role\": \"user\", \"content\": f\"\"\"Now the command is {problem}, please decompose it into smaller commands like the examples.\n",
    "Format: \"Command\" can be solved by: \"subcommand_0\", \"subcommand_1\",...  \"\"\"}\n",
    "decom_Q = [decom_system, question]\n",
    "decom_commands = askChatGPT(decom_Q, model=GPT_MODEL, temperature = 1)\n",
    "print(decom_commands)\n",
    "\n",
    "# 正则表达式匹配 can be solved by: 之后的引号中的内容\n",
    "pattern = r'can be solved by:\\s*(\"[^\"]*\"(?:,\\s*\"[^\"]*\")*)'\n",
    "\n",
    "# 查找匹配项\n",
    "match = re.search(pattern, decom_commands)\n",
    "\n",
    "# 提取匹配内容并转换为列表\n",
    "if match:\n",
    "    # 提取逗号分隔的引号中的内容\n",
    "    commands_decomposed = re.findall(r'\"([^\"]*)\"', match.group(1))\n",
    "    print(commands_decomposed)\n",
    "else:\n",
    "    print(\"没有找到匹配的内容\")\n"
   ]
  },
  {
   "cell_type": "markdown",
   "metadata": {},
   "source": [
    "#### 定义图上的元关系\n",
    "#### 然后再将文字关系映射到抽象关系图"
   ]
  },
  {
   "cell_type": "code",
   "execution_count": 4,
   "metadata": {},
   "outputs": [
    {
     "name": "stdout",
     "output_type": "stream",
     "text": [
      "Given the natural language instruction \"turn right after run left thrice\" and the provided subcommands ['run left', 'run left thrice', 'turn right'], here's the breakdown of the relationships between these subcommands:\n",
      "\n",
      "1. **'run left'**: This command represents a single action of moving or running to the left. It serves as the base action that is repeated in the instruction.\n",
      "\n",
      "2. **'run left thrice'**: This command elaborates on the base action ('run left') by indicating that it should be performed three times in succession. It specifies the frequency or repetition of the base action within the context of the overall instruction. The relationship between 'run left' and 'run left thrice' is that the latter is essentially an extension or multiplication of the former, indicating not just a single execution but three consecutive executions of the action.\n",
      "\n",
      "3. **'turn right'**: This command is an action that follows the repeated action ('run left thrice'). Its relationship with 'run left thrice' is sequential; it is to be executed after the completion of the thrice-repeated action of running left. It marks a new direction or action that contrasts with the repetitive leftward movement, introducing a change in direction after the prior commands are fully executed.\n",
      "\n",
      "The overall structure of the instruction emphasizes sequential and repeated action:\n",
      "- First, execute the base action of 'run left' three times, showing repetition.\n",
      "- After completing the repetition, proceed with a different action, 'turn right', indicating a shift in direction or focus.\n",
      "\n",
      "Each subcommand contributes to the full sequence of actions described by the original instruction, illustrating both repetition and sequence in the operations to be performed.\n"
     ]
    }
   ],
   "source": [
    "problem\n",
    "commands_decomposed\n",
    "connect_system = {\"role\": \"system\", \"content\": \"\"\"Now we have a natural language instruction, which we have broken down into many subcommands in the form of a list. I want you to understand the connection between these subcommands.\"\"\"}\n",
    "connect_user = {\"role\": \"user\", \"content\":f\"The init natural language instruction is {problem}. And the subcommands are {commands_decomposed} Please provide your understanding of the relationships between these subcommands.\"}\n",
    "connect_Q = [connect_system, connect_user]\n",
    "connect_commands = askChatGPT(connect_Q, model=GPT_MODEL, temperature = 1)\n",
    "\n",
    "print(connect_commands)"
   ]
  },
  {
   "cell_type": "code",
   "execution_count": 5,
   "metadata": {},
   "outputs": [
    {
     "name": "stdout",
     "output_type": "stream",
     "text": [
      "1. \"run left\" progressive \"run left thrice\"\n",
      "2. \"run left thrice\" parallel \"turn right\"\n"
     ]
    }
   ],
   "source": [
    "# 定义图的元操作: 聚合\n",
    "element_system = {\"role\":\"system\", \"content\":\"\"\"Now we need to create a standardized model for the relationships between subcommands. We have defined two basic relationships:\n",
    "1. Progressive: This means that subcommand 2 is the direct subsequent step to subcommand 1, providing a detailed explanation and additional requirements for subcommand 1. The result of subcommand 2 can directly override the result of subcommand 1 for subsequent reasoning.\n",
    "2. Parallel: This means that subcommand 1 and subcommand 2 are two parallel steps. They are independent, with results that are somewhat related but not interchangeable. They can be handled separately and then aggregated.\n",
    "\"\"\"}\n",
    "element_Q =  {\"role\": \"user\", \"content\":\"\"\"Now please rewrite your understanding of the relationship between subcommands using 'progressive' and 'parallel'.\n",
    "Answer format: \n",
    "1. \"xxx1\" progressive \"xxx2\"\n",
    "2. \"xxx2\" parallel \"xxx3\"\n",
    "3. ...\n",
    "\n",
    "Notice that \"xxx1\" progressive \"xxx2\" means \"xxx2\" is the subsequent step to \"xxx1\".\n",
    "\"\"\"}\n",
    "connect_Q.append(element_system)\n",
    "connect_Q.append(element_Q)\n",
    "tuple_subcommands = askChatGPT(connect_Q, model=GPT_MODEL, temperature = 1)\n",
    "print(tuple_subcommands)"
   ]
  },
  {
   "cell_type": "markdown",
   "metadata": {},
   "source": [
    "#### 将文本化的描述转化为结构化的推理图 - 如何建图?"
   ]
  },
  {
   "cell_type": "code",
   "execution_count": 7,
   "metadata": {},
   "outputs": [
    {
     "name": "stdout",
     "output_type": "stream",
     "text": [
      "('run left', 'progressive', 'run left thrice')\n",
      "('run left thrice', 'parallel', 'turn right')\n"
     ]
    }
   ],
   "source": [
    "# print(connect_commands)\n",
    "\n",
    "# 正则表达式模式,从语言描述中提取关系三元组\n",
    "pattern = r'\"\\s*([^\"]+)\\s*\"\\s*(\\w+)\\s*\"\\s*([^\"]+)\\s*\"'\n",
    "# 使用正则表达式查找所有匹配的三元组\n",
    "matches = re.findall(pattern, tuple_subcommands)\n",
    "# 输出提取的关系三元组\n",
    "for match in matches:\n",
    "    print(match)\n"
   ]
  },
  {
   "cell_type": "code",
   "execution_count": 5,
   "metadata": {},
   "outputs": [
    {
     "data": {
      "text/plain": [
       "'process_flow.png'"
      ]
     },
     "execution_count": 5,
     "metadata": {},
     "output_type": "execute_result"
    }
   ],
   "source": [
    "from graphviz import Digraph\n",
    "\n",
    "# 定义关系描述的三元组\n",
    "relationships = [\n",
    "    ('run left', 'progressive', 'run left thrice'),\n",
    "    ('run left thrice', 'parallel', 'turn right')\n",
    "]\n",
    "\n",
    "# 创建有向图\n",
    "dot = Digraph(comment='Process Flow')\n",
    "\n",
    "# 用于存储并行关系的集合\n",
    "parallel_pairs = []\n",
    "\n",
    "# 添加节点和边\n",
    "for obj1, relation, obj2 in relationships:\n",
    "    dot.node(obj1, obj1)\n",
    "    dot.node(obj2, obj2)\n",
    "    \n",
    "    if relation == 'progressive':\n",
    "        dot.edge(obj1, obj2, label='progressive')\n",
    "    elif relation == 'parallel':\n",
    "        parallel_pairs.append((obj1, obj2))\n",
    "\n",
    "# 添加并行关系的无箭头虚线和共同指向的result节点\n",
    "if parallel_pairs:\n",
    "    with dot.subgraph() as s:\n",
    "        for obj1, obj2 in parallel_pairs:\n",
    "            s.node(obj1, obj1)\n",
    "            s.node(obj2, obj2)\n",
    "            s.edge(obj1, obj2, style='dotted', arrowhead='none', label='parallel')\n",
    "        s.node('result', 'result')\n",
    "        for obj1, obj2 in parallel_pairs:\n",
    "            s.edge(obj1, 'result', style='dotted') # arrowhead='none'\n",
    "            s.edge(obj2, 'result', style='dotted') # arrowhead='none'\n",
    "\n",
    "# 保存并展示图表，增加分辨率参数\n",
    "dot.attr(dpi='300')  # 设置dpi参数提高分辨率\n",
    "dot.render('process_flow', format='png', view=True)\n"
   ]
  },
  {
   "cell_type": "markdown",
   "metadata": {},
   "source": [
    "#### 求解subcommand,将subcommand映射到具体的action序列"
   ]
  },
  {
   "cell_type": "code",
   "execution_count": 41,
   "metadata": {},
   "outputs": [
    {
     "name": "stdout",
     "output_type": "stream",
     "text": [
      "The output of \"run left\" concatenates: the output of \"turn left\", the output of \"run\". \"turn left\" outputs \"TURN LEFT\". \"run\" outputs \"RUN\". So concatenating the output of \"turn left\" and the output of \"run\" leads to \"TURN LEFT\" + \"RUN\". So the output of \"run left\" is \"TURN LEFT\" + \"RUN\".\n",
      "The output of \"run left thrice\" concatenates: the output of \"run left\", the output of \"run left\", the output of \"run left\". \"run left\" outputs \"TURN LEFT\" + \"RUN\". So repeating the output of \"run left\" three times leads to (\"TURN LEFT\" + \"RUN\") * 3. So the output of \"run left thrice\" is (\"TURN LEFT\" + \"RUN\") * 3.\n",
      "\"turn right\" outputs \"TURN RIGHT\".\n",
      "Given the sequence and understanding the redundancy in repeating actions, we start with \"run left\", which is then expanded into \"run left thrice\", and finally, there is the action \"turn right\". Since \"run left thrice\" inherently includes the action of \"run left\" done three times, we only need to perform \"run left thrice\" followed by \"turn right\".\n",
      "\n",
      "So, combining the results:\n",
      "\n",
      "- \"run left thrice\" outputs (\"TURN LEFT\" + \"RUN\") * 3.\n",
      "- Followed by \"turn right\" which outputs \"TURN RIGHT\".\n",
      "\n",
      "Therefore, the final action sequence is: (\"TURN LEFT\" + \"RUN\") * 3 + \"TURN RIGHT\".\n",
      "\n",
      "(\"TURN LEFT\" + \"RUN\") * 3 + \"TURN RIGHT\"\n"
     ]
    }
   ],
   "source": [
    "\n",
    "\n",
    "map_system= {\"role\": \"system\", \"content\": f\"\"\"I need you to map a piece of natural language command to action sequences. I've broken command down into smaller subcommands for you. Please follow the subcommands I provided.\n",
    "The initial command is {commands_decomposed}.\n",
    "13 examples are as follows:\n",
    "\n",
    "Q: \"turn left\"\n",
    "A: \"turn left\" outputs \"TURN LEFT\".\n",
    "\n",
    "Q: \"turn right\"\n",
    "A: \"turn right\" outputs \"TURN RIGHT\".\n",
    "\n",
    "Q: \"jump left\"\n",
    "A: The output of \"jump left\" concatenates: the output of \"turn left\", the output of \"jump\". \"turn left\" outputs \"TURN LEFT\". \"jump\" outputs \"JUMP\". So concatenating the output of \"turn left\" and the output of \"jump\" leads to \"TURN LEFT\" + \"JUMP\". So the output of \"jump left\" is \"TURN LEFT\" + \"JUMP\".\n",
    "\n",
    "Q: \"run right\"\n",
    "A: The output of \"run right\" concatenates: the output of \"turn right\", the output of \"run\". \"turn right\" outputs \"TURN RIGHT\". \"run\" outputs \"RUN\". So concatenating the output of \"turn right\" and the output of \"run\" leads to \"TURN RIGHT\" + \"RUN\". So the output of \"run right\" is \"TURN RIGHT\" + \"RUN\".\n",
    "\n",
    "Q: \"look twice\"\n",
    "A: The output of \"look twice\" concatenates: the output of \"look\", the output of \"look\". \"look\" outputs \"LOOK\". So repeating the output of \"look\" two times leads to \"LOOK\" * 2. So the output of \"look twice\" is \"LOOK\" * 2.\n",
    "\n",
    "Q: \"run and look twice\"\n",
    "A: The output of \"run and look twice\" concate+nates: the output of \"run\", the output of \"look twice\". \"run\" outputs \"RUN\". \"look twice\" outputs \"LOOK\" * 2. So concatenating the output of \"run\" and the output of \"look twice\" leads to \"RUN\" + \"LOOK\" * 2. So the output of \"run and look twice\" is \"RUN\" + \"LOOK\" * 2.\n",
    "\n",
    "Q: \"jump right thrice\"\n",
    "A: The output of \"jump right thrice\" concatenates: the output of \"jump right\", the output of \"jump right\", the output of \"jump right\". \"jump right\" outputs \"TURN RIGHT\" + \"JUMP\". So repeating the output of \"jump right\" three times leads to (\"TURN RIGHT\" + \"JUMP\") * 3. So the output of \"jump right thrice\" is (\"TURN RIGHT\" + \"JUMP\") * 3.\n",
    "\n",
    "Q: \"walk after run\"\n",
    "A: The output of \"walk after run\" concatenates: the output of \"run\", the output of \"walk\". \"run\" outputs \"RUN\". \"walk\" outputs \"WALK\". So concatenating the output of \"run\" and the output of \"walk\" leads to \"RUN\" + \"WALK\". So the output of \"walk after run\" is \"RUN\" + \"WALK\".\n",
    "\n",
    "Q: \"turn opposite left\"\n",
    "A: The output of \"turn opposite left\" concatenates: the output of \"turn left\", the output of \"turn left\". \"turn left\" outputs \"TURN LEFT\". So repeating the output of \"turn left\" twice leads to \"TURN LEFT\" * 2. So the output of \"turn opposite left\" is \"TURN LEFT\" * 2.\n",
    "\n",
    "Q: \"turn around left\"\n",
    "A: The output of \"turn around left\" concatenates: the output of \"turn left\", the output of \"turn left\", the output of \"turn left\", the output of \"turn left\". \"turn left\" outputs \"TURN LEFT\". So repeating the output of \"turn left\" four times leads to \"TURN LEFT\" * 4. So the output of \"turn around left\" is \"TURN LEFT\" * 4. Q: \"turn opposite right\" A: The output of \"turn opposite right\" concatenates: the output of \"turn right\", the output of \"turn right\". \"turn right\" outputs \"TURN RIGHT\". So repeating the output of \"turn right\" twice leads to \"TURN RIGHT\" * 2. So the output of \"turn opposite right\" is \"TURN RIGHT\" * 2.\n",
    "\n",
    "Q: \"turn around right\"\n",
    "A: The output of \"turn around right\" concatenates: the output of \"turn right\", the output of \"turn right\", the output of \"turn right\", the output of \"turn right\". \"turn right\" outputs \"TURN RIGHT\". So repeating the output of \"turn right\" four times leads to \"TURN RIGHT\" * 4. So the output of \"turn around right\" is \"TURN RIGHT\" * 4.\n",
    "\n",
    "Q: \"walk opposite left\"\n",
    "A: The output of \"walk opposite left\" concatenates: the output of \"turn opposite left\", the output of \"walk\". \"turn opposite left\" outputs \"TURN LEFT\" * 2. \"walk\" outputs \"WALK\". So concatenating the output of \"turn opposite left\" and the output of \"walk\" leads to \"TURN LEFT\" * 2 + \"WALK\". So the output of \"walk opposite left\" is \"TURN LEFT\" * 2 + \"WALK\".\n",
    "\n",
    "Q: \"walk around left\"\n",
    "A: The output of \"walk around left\" concatenates: the output of \"walk left\", the output of \"walk left\", the output of \"walk left\", the output of \"walk left\". \"walk left\" outputs \"TURN LEFT\" + \"WALK\". So repeating the output of \"walk around left\" four times leads to (\"TURN LEFT\" + \"WALK\") * 4. So the output of \"walk around left\" is (\"TURN LEFT\" + \"WALK\") * 4.\n",
    "\"\"\"}\n",
    "\n",
    "Q_now = [map_system]\n",
    "\n",
    "for i in range(len(commands_decomposed)):\n",
    "    subcommand = commands_decomposed[i]\n",
    "    Q_sub = {\"role\": \"user\", \"content\": f\"\"\"Subcommand: {subcommand}. Please map the subcommand to actions.\"\"\"}\n",
    "    Q_now.append(Q_sub)\n",
    "    answer_sub = askChatGPT(Q_now, model=GPT_MODEL, temperature = 1)\n",
    "    print(answer_sub)\n",
    "    Q_now.append({\"role\": \"assistant\", \"content\": answer_sub})\n",
    "\n",
    "Q_final = {\"role\": \"user\", \"content\": f\"\"\"Now you need to summarize the final action sequence based on the results of the previous subcommand. Note that the final result is not necessarily a concatenation of all subcommands results.\n",
    "Example1: \"turn right after run right thrice\" can be solved by: \"turn right\", \"run right\", \"run right thrice\". But \"run right thrice\" is the subsequent step behind \"run right\" and it is only needed to concatenate the actions of \"run right thrice\" with the actions of \"turn right\".\n",
    "\n",
    "The initial command is {commands_decomposed}. Consider the connections between the various subcommands, please answer the final answer. There is no need to break multiplication into addition.\"\"\"}  # 不论subquesition有没有覆盖到最后一问,都统一问一下\n",
    "Q_now.append(Q_final)\n",
    "# printSeq(Q_now)\n",
    "answer_final = askChatGPT(Q_now, model=GPT_MODEL, temperature = 1)\n",
    "print(answer_final)\n",
    "Q_now.append({\"role\": \"assistant\", \"content\": answer_final})\n",
    "\n",
    "Q_simplify = {\"role\": \"user\", \"content\": \"\"\"Please only output the action sequence and no explanations are needed. Example: \"TURN LEFT\" * 2 + \"WALK\" \"\"\"}\n",
    "Q_now.append(Q_simplify)\n",
    "answer_simplify = askChatGPT(Q_now, model=GPT_MODEL, temperature = 1)\n",
    "print('\\n'+answer_simplify)"
   ]
  },
  {
   "cell_type": "code",
   "execution_count": 47,
   "metadata": {},
   "outputs": [
    {
     "name": "stdout",
     "output_type": "stream",
     "text": [
      "1 (TURN LEFT RUN) 2 (TURN LEFT RUN) 3 (TURN LEFT RUN) TURN RIGHT\n",
      "TURN_LEFT RUN TURN_LEFT RUN TURN_LEFT RUN TURN_RIGHT\n"
     ]
    }
   ],
   "source": [
    "# 接下来就是要把这个伪式子给转成action的序列\n",
    "\n",
    "\n",
    "rewrite_system = {\"role\": \"system\", \"content\": f\"\"\"Now I have a pseudo action sequence expression with parentheses and multiplication. I need you to help me change this into a sequence of actions without an operator sign.\n",
    "6 examples are as follows:    \n",
    "    \n",
    "Q: “JUMP” * 3\n",
    "Rewrite: “JUMP” * 3\n",
    "A: 1 JUMP 2 JUMP 3 JUMP\n",
    "\n",
    "Q: “RUN” * 4 * 2\n",
    "Rewrite: “RUN” * 8\n",
    "A: 1 RUN 2 RUN 3 RUN 4 RUN 5 RUN 6 RUN 7 RUN 8 RUN\n",
    "\n",
    "Q: “TURN RIGHT” + “WALK”\n",
    "Rewrite: “TURN RIGHT” + “WALK”\n",
    "A: TURN RIGHT WALK\n",
    "\n",
    "Q: (“TURN LEFT” + “LOOK”) * 2 + “TURN LEFT” + “LOOK”\n",
    "Rewrite: (“TURN LEFT” + “LOOK”) * 2 + “TURN LEFT” + “LOOK”\n",
    "A: 1 (TURN LEFT LOOK) 2 (TURN LEFT LOOK) TURN LEFT LOOK\n",
    "\n",
    "Q: (“TURN RIGHT” * 2 + “JUMP”) * 4\n",
    "Rewrite: (“TURN RIGHT” * 2 + “JUMP”) * 4\n",
    "A: 1 (1 TURN RIGHT 2 TURN RIGHT JUMP) 2 (1 TURN RIGHT 2 TURN RIGHT JUMP) 3 (1 TURN RIGHT 2 TURN RIGHT JUMP) 4 (1 TURN RIGHT 2 TURN RIGHT JUMP)\n",
    "\n",
    "Q: “TURN LEFT” * 2 + (“TURN RIGHT” + “WALK”) * 4 * 2\n",
    "Rewrite: “TURN LEFT” * 2 + (“TURN RIGHT” + “WALK”) * 8\n",
    "A: 1 TURN LEFT 2 TURN LEFT 1 (TURN RIGHT WALK) 2 (TURN RIGHT WALK) 3 (TURN RIGHT WALK) 4 (TURN RIGHT WALK) 5 (TURN RIGHT WALK) 6 (TURN RIGHT WALK) 7 (TURN RIGHT WALK) 8 (TURN RIGHT WALK)\n",
    "\"\"\"}\n",
    "\n",
    "Q_change = {\"role\": \"user\", \"content\": f\"\"\"The pseudo action sequence expression is {answer_simplify} Please change it to the action sequences.\"\"\"}\n",
    "Q_now = [rewrite_system, Q_change]\n",
    "actions = askChatGPT(Q_now, model=GPT_MODEL, temperature = 1)\n",
    "print(actions)\n",
    "\n",
    "# 删除数字\n",
    "text_no_numbers_and_brackets = re.sub(r'[\\d\\(\\)]', '', actions)\n",
    "# 替换 TURN 后面的空格为下划线\n",
    "text_formatted = re.sub(r'TURN\\s+', 'TURN_', text_no_numbers_and_brackets)\n",
    "# 去掉多余的空格\n",
    "text_formatted = re.sub(r'\\s+', ' ', text_formatted).strip()\n",
    "print(text_formatted)"
   ]
  }
 ],
 "metadata": {
  "kernelspec": {
   "display_name": "LLMAgent",
   "language": "python",
   "name": "llmagent"
  },
  "language_info": {
   "codemirror_mode": {
    "name": "ipython",
    "version": 3
   },
   "file_extension": ".py",
   "mimetype": "text/x-python",
   "name": "python",
   "nbconvert_exporter": "python",
   "pygments_lexer": "ipython3",
   "version": "3.8.18"
  },
  "orig_nbformat": 4
 },
 "nbformat": 4,
 "nbformat_minor": 2
}

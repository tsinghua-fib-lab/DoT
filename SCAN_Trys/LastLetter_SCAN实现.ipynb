{
 "cells": [
  {
   "cell_type": "code",
   "execution_count": 1,
   "metadata": {},
   "outputs": [
    {
     "data": {
      "text/plain": [
       "0"
      ]
     },
     "execution_count": 1,
     "metadata": {},
     "output_type": "execute_result"
    }
   ],
   "source": [
    "# -*- coding: utf-8 -*-\n",
    "import argparse\n",
    "import copy\n",
    "import json\n",
    "import os\n",
    "import pickle\n",
    "import random\n",
    "import sys\n",
    "import re\n",
    "import numpy as np\n",
    "import openai\n",
    "\n",
    "from utils import *\n",
    "\n",
    "GPT_MODEL = \"gpt-4-turbo-preview\"  # [gpt-4-turbo-preview]\n",
    "\n",
    "setOpenAi(keyid = 2)"
   ]
  },
  {
   "attachments": {},
   "cell_type": "markdown",
   "metadata": {},
   "source": [
    "### Task: Last_First_Concatenate\n",
    "- 首先拆分成小任务\n",
    "- 然后逐个任务串联\n",
    "- 纯粹的级联结构即可,无需更加复杂的结构"
   ]
  },
  {
   "cell_type": "code",
   "execution_count": 5,
   "metadata": {},
   "outputs": [
    {
     "name": "stdout",
     "output_type": "stream",
     "text": [
      "The list \"Texture, Mango, Bridge\" can be solved by: \n",
      "- \"Texture\"\n",
      "- \"Texture, Mango\"\n",
      "- \"Texture, Mango, Bridge\"\n",
      "['Texture', 'Texture, Mango', 'Texture, Mango, Bridge']\n"
     ]
    }
   ],
   "source": [
    "\n",
    "GPT_MODEL = \"gpt-4-turbo-preview\"  # [gpt-4-turbo-preview]]\n",
    "\n",
    "problem = \"\"\"\n",
    "        \"Texture, Mango, Bridge\"\n",
    "        \"\"\"\n",
    "\n",
    "decompose = {\"role\": \"system\", \n",
    "                \"content\": \"\"\"\n",
    "        I will give you a list of words. And you need to decompose the list of words in to sublists of the given list.\n",
    "        Two examples are as follows:\n",
    "        \n",
    "        Q: “machine, learning”\n",
    "        A: creating sequential sublists of the list “machine, learning”: \n",
    "        “machine”\n",
    "        “machine, learning”\n",
    "\n",
    "        Q: “machine, learning, artificial”\n",
    "        A: creating sequential sublists of the list “machine, learning, artificial”: \n",
    "        “machine”\n",
    "        “machine, learning”\n",
    "        “machine, learning, artificial”\n",
    "        \"\"\"}\n",
    "\n",
    "question_last_word = {\"role\": \"user\", \"content\": f\"\"\"Now the list of words is {problem}, please decompose it into smaller lists like the examples. Format: \"list\" can be solved by: \"sublist_0\", \"sublist_1\",...  \"\"\"}\n",
    "\n",
    "Q_decompose = [decompose, question_last_word]\n",
    "decom_lists = askChatGPT(Q_decompose, model=GPT_MODEL, temperature = 1)\n",
    "print(decom_lists)\n",
    "\n",
    "#匹配双引号中的内容\n",
    "pattern = r'\"([^\"]*)\"'\n",
    "\n",
    "# 查找所有匹配项\n",
    "matches = re.findall(pattern, decom_lists)\n",
    "\n",
    "# 提取匹配内容并转换为列表\n",
    "if matches:\n",
    "    list_decomposed = matches[1:]  # 忽略第一个匹配项\n",
    "    print(list_decomposed)\n",
    "else:\n",
    "    print(\"没有找到匹配的内容\")"
   ]
  },
  {
   "attachments": {},
   "cell_type": "markdown",
   "metadata": {},
   "source": [
    "\n",
    "然后需要对于每个任务进行解答，然后将解答串联起来\n"
   ]
  },
  {
   "cell_type": "code",
   "execution_count": 6,
   "metadata": {},
   "outputs": [
    {
     "name": "stdout",
     "output_type": "stream",
     "text": [
      "The last letter of \"Texture\" is \"e\". Thus, the output is \"e\".\n",
      "The last letter of \"Texture\" is \"e\". The last letter of \"Mango\" is \"o\". Concatenating \"e\", \"o\" leads to \"eo\". So, the output is \"eo\".\n",
      "The output from \"Texture, Mango\" is \"eo\". The last letter of \"Bridge\" is \"e\". Concatenating \"eo\", \"e\" leads to \"eoe\". So, the output is \"eoe\".\n",
      "{'role': 'system', 'content': \"I need you to solve the list by concatenating the last letter of the words in the sublists. I've broken command down into smaller sublists for you. Please follow the sublists I provided.\\nThe initial command is ['Texture', 'Texture, Mango', 'Texture, Mango, Bridge'].\\n\\nFour examples are as follows:\\n\\nQ: “think, machine”\\nA: The last letter of “think” is “k”. The last letter of “machine” is “e”. Concatenating “k”, “e” leads to “ke”. So, “think, machine” outputs “ke”.\\n\\nQ: “think, machine, learning”\\nA: “think, machine” outputs “ke”. The last letter of “learning” is “g”. Concatenating “ke”, “g” leads to “keg”. So, “think, machine, learning” outputs “keg”.\\n\\nQ: “transformer, language”\\nA: The last letter of “transformer” is “r”. The last letter of “language” is “e”. Concatenating: “r”, “e” leads to “re”. So, “transformer, language” outputs “re”.\\n\\nQ: “transformer, language, vision”\\nA: “transformer, language” outputs “re”. The last letter of “vision” is “n”. Concatenating: “re”, “n” leads to “ren”. So, “transformer, language, vision” outputs “ren”.\\n\\n\"}\n",
      "{'role': 'user', 'content': 'Subcommand: Texture. Please retrieve and concatenate the last letter.'}\n",
      "{'role': 'assistant', 'content': 'The last letter of \"Texture\" is \"e\". Thus, the output is \"e\".'}\n",
      "{'role': 'user', 'content': 'Subcommand: Texture, Mango. Please retrieve and concatenate the last letter.'}\n",
      "{'role': 'assistant', 'content': 'The last letter of \"Texture\" is \"e\". The last letter of \"Mango\" is \"o\". Concatenating \"e\", \"o\" leads to \"eo\". So, the output is \"eo\".'}\n",
      "{'role': 'user', 'content': 'Subcommand: Texture, Mango, Bridge. Please retrieve and concatenate the last letter.'}\n",
      "{'role': 'assistant', 'content': 'The output from \"Texture, Mango\" is \"eo\". The last letter of \"Bridge\" is \"e\". Concatenating \"eo\", \"e\" leads to \"eoe\". So, the output is \"eoe\".'}\n",
      "{'role': 'user', 'content': 'So the final answer is: '}\n",
      "The final answers, based on the subcommands provided, are as follows:\n",
      "\n",
      "1. For \"Texture\": \"e\"\n",
      "2. For \"Texture, Mango\": \"eo\"\n",
      "3. For \"Texture, Mango, Bridge\": \"eoe\"\n"
     ]
    }
   ],
   "source": [
    "concenate_method = {\"role\": \"system\", \"content\": f\"\"\"I need you to solve the list by concatenating the last letter of the words in the sublists. I've broken command down into smaller sublists for you. Please follow the sublists I provided.\n",
    "The initial command is {list_decomposed}.\n",
    "\n",
    "Four examples are as follows:\n",
    "\n",
    "Q: “think, machine”\n",
    "A: The last letter of “think” is “k”. The last letter of “machine” is “e”. Concatenating “k”, “e” leads to “ke”. So, “think, machine” outputs “ke”.\n",
    "\n",
    "Q: “think, machine, learning”\n",
    "A: “think, machine” outputs “ke”. The last letter of “learning” is “g”. Concatenating “ke”, “g” leads to “keg”. So, “think, machine, learning” outputs “keg”.\n",
    "\n",
    "Q: “transformer, language”\n",
    "A: The last letter of “transformer” is “r”. The last letter of “language” is “e”. Concatenating: “r”, “e” leads to “re”. So, “transformer, language” outputs “re”.\n",
    "\n",
    "Q: “transformer, language, vision”\n",
    "A: “transformer, language” outputs “re”. The last letter of “vision” is “n”. Concatenating: “re”, “n” leads to “ren”. So, “transformer, language, vision” outputs “ren”.\n",
    "\n",
    "\"\"\"}\n",
    "\n",
    "Q_now = [concenate_method]\n",
    "\n",
    "for i in range(len(list_decomposed)):\n",
    "    sublist = list_decomposed[i]\n",
    "    Q_sub = {\"role\": \"user\", \"content\": f\"\"\"Subcommand: {sublist}. Please retrieve and concatenate the last letter.\"\"\"}\n",
    "    Q_now.append(Q_sub)\n",
    "    answer_sub = askChatGPT(Q_now, model=GPT_MODEL, temperature = 1)\n",
    "    print(answer_sub)\n",
    "    Q_now.append({\"role\": \"assistant\", \"content\": answer_sub})\n",
    "\n",
    "Q_final = {\"role\": \"user\", \"content\": \"\"\"So the final answer is: \"\"\"}  # 不论subquesition有没有覆盖到最后一问,都统一问一下\n",
    "Q_now.append(Q_final)\n",
    "printSeq(Q_now)\n",
    "answer_final = askChatGPT(Q_now, model=GPT_MODEL, temperature = 1)\n",
    "print(answer_final)\n"
   ]
  },
  {
   "cell_type": "code",
   "execution_count": null,
   "metadata": {},
   "outputs": [],
   "source": []
  }
 ],
 "metadata": {
  "kernelspec": {
   "display_name": "LLMAgent",
   "language": "python",
   "name": "llmagent"
  },
  "language_info": {
   "codemirror_mode": {
    "name": "ipython",
    "version": 3
   },
   "file_extension": ".py",
   "mimetype": "text/x-python",
   "name": "python",
   "nbconvert_exporter": "python",
   "pygments_lexer": "ipython3",
   "version": "3.8.18"
  },
  "orig_nbformat": 4,
  "vscode": {
   "interpreter": {
    "hash": "aee8b7b246df8f9039afb4144a1f6fd8d2ca17a180786b69acc140d282b71a49"
   }
  }
 },
 "nbformat": 4,
 "nbformat_minor": 2
}
